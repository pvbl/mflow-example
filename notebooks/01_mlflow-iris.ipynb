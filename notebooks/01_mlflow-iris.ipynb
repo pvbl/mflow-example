{
 "cells": [
  {
   "cell_type": "code",
   "execution_count": 1,
   "metadata": {},
   "outputs": [
    {
     "name": "stdout",
     "output_type": "stream",
     "text": [
      "Collecting mlflow\n",
      "  Downloading mlflow-2.11.3-py3-none-any.whl (19.7 MB)\n",
      "     ---------------------------------------- 19.7/19.7 MB 9.9 MB/s eta 0:00:00\n",
      "Requirement already satisfied: scipy<2 in c:\\users\\paul\\anaconda3\\lib\\site-packages (from mlflow) (1.10.0)\n",
      "Collecting alembic!=1.10.0,<2\n",
      "  Downloading alembic-1.13.1-py3-none-any.whl (233 kB)\n",
      "     -------------------------------------- 233.4/233.4 kB 7.2 MB/s eta 0:00:00\n",
      "Requirement already satisfied: packaging<24 in c:\\users\\paul\\anaconda3\\lib\\site-packages (from mlflow) (22.0)\n",
      "Collecting gitpython<4,>=3.1.9\n",
      "  Downloading GitPython-3.1.43-py3-none-any.whl (207 kB)\n",
      "     ------------------------------------- 207.3/207.3 kB 12.3 MB/s eta 0:00:00\n",
      "Requirement already satisfied: scikit-learn<2 in c:\\users\\paul\\anaconda3\\lib\\site-packages (from mlflow) (1.2.1)\n",
      "Collecting sqlparse<1,>=0.4.0\n",
      "  Downloading sqlparse-0.4.4-py3-none-any.whl (41 kB)\n",
      "     ---------------------------------------- 41.2/41.2 kB ? eta 0:00:00\n",
      "Requirement already satisfied: importlib-metadata!=4.7.0,<8,>=3.7.0 in c:\\users\\paul\\anaconda3\\lib\\site-packages (from mlflow) (4.11.3)\n",
      "Requirement already satisfied: pandas<3 in c:\\users\\paul\\anaconda3\\lib\\site-packages (from mlflow) (1.5.3)\n",
      "Requirement already satisfied: click<9,>=7.0 in c:\\users\\paul\\anaconda3\\lib\\site-packages (from mlflow) (8.0.4)\n",
      "Requirement already satisfied: cloudpickle<4 in c:\\users\\paul\\anaconda3\\lib\\site-packages (from mlflow) (2.0.0)\n",
      "Requirement already satisfied: requests<3,>=2.17.3 in c:\\users\\paul\\appdata\\roaming\\python\\python310\\site-packages (from mlflow) (2.31.0)\n",
      "Requirement already satisfied: sqlalchemy<3,>=1.4.0 in c:\\users\\paul\\anaconda3\\lib\\site-packages (from mlflow) (1.4.39)\n",
      "Requirement already satisfied: numpy<2 in c:\\users\\paul\\anaconda3\\lib\\site-packages (from mlflow) (1.23.5)\n",
      "Requirement already satisfied: pytz<2025 in c:\\users\\paul\\anaconda3\\lib\\site-packages (from mlflow) (2022.7)\n",
      "Collecting waitress<4\n",
      "  Downloading waitress-3.0.0-py3-none-any.whl (56 kB)\n",
      "     ---------------------------------------- 56.7/56.7 kB ? eta 0:00:00\n",
      "Requirement already satisfied: Flask<4 in c:\\users\\paul\\anaconda3\\lib\\site-packages (from mlflow) (2.2.2)\n",
      "Requirement already satisfied: matplotlib<4 in c:\\users\\paul\\anaconda3\\lib\\site-packages (from mlflow) (3.7.0)\n",
      "Collecting protobuf<5,>=3.12.0\n",
      "  Downloading protobuf-4.25.3-cp310-abi3-win_amd64.whl (413 kB)\n",
      "     ------------------------------------- 413.4/413.4 kB 13.0 MB/s eta 0:00:00\n",
      "Requirement already satisfied: Jinja2<4,>=3.0 in c:\\users\\paul\\appdata\\roaming\\python\\python310\\site-packages (from mlflow) (3.1.2)\n",
      "Collecting docker<8,>=4.0.0\n",
      "  Downloading docker-7.0.0-py3-none-any.whl (147 kB)\n",
      "     -------------------------------------- 147.6/147.6 kB 8.6 MB/s eta 0:00:00\n",
      "Collecting pyarrow<16,>=4.0.0\n",
      "  Downloading pyarrow-15.0.2-cp310-cp310-win_amd64.whl (24.8 MB)\n",
      "     ---------------------------------------- 24.8/24.8 MB 9.3 MB/s eta 0:00:00\n",
      "Requirement already satisfied: entrypoints<1 in c:\\users\\paul\\anaconda3\\lib\\site-packages (from mlflow) (0.4)\n",
      "Collecting graphene<4\n",
      "  Downloading graphene-3.3-py2.py3-none-any.whl (128 kB)\n",
      "     ---------------------------------------- 128.2/128.2 kB ? eta 0:00:00\n",
      "Collecting querystring-parser<2\n",
      "  Using cached querystring_parser-1.2.4-py2.py3-none-any.whl (7.9 kB)\n",
      "Requirement already satisfied: markdown<4,>=3.3 in c:\\users\\paul\\anaconda3\\lib\\site-packages (from mlflow) (3.4.1)\n",
      "Requirement already satisfied: pyyaml<7,>=5.1 in c:\\users\\paul\\anaconda3\\lib\\site-packages (from mlflow) (6.0)\n",
      "Requirement already satisfied: typing-extensions>=4 in c:\\users\\paul\\anaconda3\\lib\\site-packages (from alembic!=1.10.0,<2->mlflow) (4.4.0)\n",
      "Collecting Mako\n",
      "  Downloading Mako-1.3.2-py3-none-any.whl (78 kB)\n",
      "     ---------------------------------------- 78.7/78.7 kB 4.3 MB/s eta 0:00:00\n",
      "Requirement already satisfied: colorama in c:\\users\\paul\\anaconda3\\lib\\site-packages (from click<9,>=7.0->mlflow) (0.4.6)\n",
      "Requirement already satisfied: urllib3>=1.26.0 in c:\\users\\paul\\anaconda3\\lib\\site-packages (from docker<8,>=4.0.0->mlflow) (1.26.14)\n",
      "Requirement already satisfied: pywin32>=304 in c:\\users\\paul\\anaconda3\\lib\\site-packages (from docker<8,>=4.0.0->mlflow) (305.1)\n",
      "Requirement already satisfied: Werkzeug>=2.2.2 in c:\\users\\paul\\anaconda3\\lib\\site-packages (from Flask<4->mlflow) (2.2.2)\n",
      "Requirement already satisfied: itsdangerous>=2.0 in c:\\users\\paul\\anaconda3\\lib\\site-packages (from Flask<4->mlflow) (2.0.1)\n",
      "Collecting gitdb<5,>=4.0.1\n",
      "  Using cached gitdb-4.0.11-py3-none-any.whl (62 kB)\n",
      "Collecting aniso8601<10,>=8\n",
      "  Using cached aniso8601-9.0.1-py2.py3-none-any.whl (52 kB)\n",
      "Collecting graphql-relay<3.3,>=3.1\n",
      "  Downloading graphql_relay-3.2.0-py3-none-any.whl (16 kB)\n",
      "Collecting graphql-core<3.3,>=3.1\n",
      "  Downloading graphql_core-3.2.3-py3-none-any.whl (202 kB)\n",
      "     ------------------------------------- 202.9/202.9 kB 12.8 MB/s eta 0:00:00\n",
      "Requirement already satisfied: zipp>=0.5 in c:\\users\\paul\\anaconda3\\lib\\site-packages (from importlib-metadata!=4.7.0,<8,>=3.7.0->mlflow) (3.11.0)\n",
      "Requirement already satisfied: MarkupSafe>=2.0 in c:\\users\\paul\\appdata\\roaming\\python\\python310\\site-packages (from Jinja2<4,>=3.0->mlflow) (2.1.3)\n",
      "Requirement already satisfied: pyparsing>=2.3.1 in c:\\users\\paul\\anaconda3\\lib\\site-packages (from matplotlib<4->mlflow) (3.0.9)\n",
      "Requirement already satisfied: cycler>=0.10 in c:\\users\\paul\\anaconda3\\lib\\site-packages (from matplotlib<4->mlflow) (0.11.0)\n",
      "Requirement already satisfied: python-dateutil>=2.7 in c:\\users\\paul\\anaconda3\\lib\\site-packages (from matplotlib<4->mlflow) (2.8.2)\n",
      "Requirement already satisfied: pillow>=6.2.0 in c:\\users\\paul\\anaconda3\\lib\\site-packages (from matplotlib<4->mlflow) (9.4.0)\n",
      "Requirement already satisfied: contourpy>=1.0.1 in c:\\users\\paul\\anaconda3\\lib\\site-packages (from matplotlib<4->mlflow) (1.0.5)\n",
      "Requirement already satisfied: fonttools>=4.22.0 in c:\\users\\paul\\anaconda3\\lib\\site-packages (from matplotlib<4->mlflow) (4.25.0)\n",
      "Requirement already satisfied: kiwisolver>=1.0.1 in c:\\users\\paul\\anaconda3\\lib\\site-packages (from matplotlib<4->mlflow) (1.4.4)\n",
      "Requirement already satisfied: six in c:\\users\\paul\\anaconda3\\lib\\site-packages (from querystring-parser<2->mlflow) (1.16.0)\n",
      "Requirement already satisfied: idna<4,>=2.5 in c:\\users\\paul\\anaconda3\\lib\\site-packages (from requests<3,>=2.17.3->mlflow) (3.4)\n",
      "Requirement already satisfied: certifi>=2017.4.17 in c:\\users\\paul\\anaconda3\\lib\\site-packages (from requests<3,>=2.17.3->mlflow) (2022.12.7)\n",
      "Requirement already satisfied: charset-normalizer<4,>=2 in c:\\users\\paul\\anaconda3\\lib\\site-packages (from requests<3,>=2.17.3->mlflow) (2.0.4)\n",
      "Requirement already satisfied: threadpoolctl>=2.0.0 in c:\\users\\paul\\anaconda3\\lib\\site-packages (from scikit-learn<2->mlflow) (2.2.0)\n",
      "Requirement already satisfied: joblib>=1.1.1 in c:\\users\\paul\\anaconda3\\lib\\site-packages (from scikit-learn<2->mlflow) (1.1.1)\n",
      "Requirement already satisfied: greenlet!=0.4.17 in c:\\users\\paul\\anaconda3\\lib\\site-packages (from sqlalchemy<3,>=1.4.0->mlflow) (2.0.1)\n",
      "Collecting smmap<6,>=3.0.1\n",
      "  Using cached smmap-5.0.1-py3-none-any.whl (24 kB)\n",
      "Installing collected packages: aniso8601, waitress, sqlparse, smmap, querystring-parser, pyarrow, protobuf, Mako, graphql-core, graphql-relay, gitdb, docker, alembic, graphene, gitpython, mlflow\n",
      "Successfully installed Mako-1.3.2 alembic-1.13.1 aniso8601-9.0.1 docker-7.0.0 gitdb-4.0.11 gitpython-3.1.43 graphene-3.3 graphql-core-3.2.3 graphql-relay-3.2.0 mlflow-2.11.3 protobuf-4.25.3 pyarrow-15.0.2 querystring-parser-1.2.4 smmap-5.0.1 sqlparse-0.4.4 waitress-3.0.0\n"
     ]
    }
   ],
   "source": [
    "!pip install mlflow"
   ]
  },
  {
   "cell_type": "code",
   "execution_count": 2,
   "metadata": {},
   "outputs": [
    {
     "data": {
      "text/plain": [
       "<Experiment: artifact_location='file:///c:/Users/Paul/Documents/freelance/docencia/cunef/otros/example-mlflow/01_demos/02_mlflow/mlflow-example/notebooks/mlruns/258821500882448194', creation_time=1712179938498, experiment_id='258821500882448194', last_update_time=1712179938498, lifecycle_stage='active', name='Experimento', tags={}>"
      ]
     },
     "execution_count": 2,
     "metadata": {},
     "output_type": "execute_result"
    }
   ],
   "source": [
    "import mlflow\n",
    "# Crear experimento\n",
    "mlflow.create_experiment(\"Experimento\")\n",
    "# Tag new experiment\n",
    "mlflow.set_experiment_tag(\"churn-modeling\",\"trees\")\n",
    "# Set the experiment\n",
    "mlflow.set_experiment(\"Experimento\")\n"
   ]
  },
  {
   "cell_type": "code",
   "execution_count": 5,
   "metadata": {},
   "outputs": [],
   "source": [
    "import numpy as np\n",
    "import pandas as pd\n",
    "from sklearn.datasets import load_iris\n",
    "from sklearn.linear_model import LogisticRegression, LinearRegression\n",
    "from sklearn.model_selection import train_test_split\n",
    "from sklearn.metrics import accuracy_score, confusion_matrix, classification_report\n",
    "import mlflow\n",
    "\n",
    "\n",
    "\n",
    "# Cargar el dataset de Iris\n",
    "iris = load_iris()\n",
    "X, y = iris.data, iris.target\n",
    "\n",
    "# Para simplificar, vamos a convertirlo en un problema binario solo con dos clases\n",
    "# Eliminaremos la clase '2' del dataset\n",
    "is_binary_class = y != 2\n",
    "X_binary, y_binary = X[is_binary_class, :], y[is_binary_class]\n",
    "\n",
    "# Dividir el dataset en conjunto de entrenamiento y prueba\n",
    "X_train, X_test, y_train, y_test = train_test_split(X_binary, y_binary, test_size=0.2, random_state=42)\n",
    "\n"
   ]
  },
  {
   "cell_type": "code",
   "execution_count": 8,
   "metadata": {},
   "outputs": [
    {
     "data": {
      "text/plain": [
       "1"
      ]
     },
     "execution_count": 8,
     "metadata": {},
     "output_type": "execute_result"
    }
   ],
   "source": [
    "\n",
    "\n",
    "\n",
    "mlflow.set_experiment(\"LR Experiment\")\n",
    "# Start a run\n",
    "mlflow.start_run()\n",
    "# mlflow.end_run()\n",
    "# Crear el modelo de regresión logística\n",
    "model = LogisticRegression(solver='liblinear',n_jobs=1 )  # Usamos liblinear para datasets pequeños\n",
    "\n",
    "# Entrenar el modelo con los datos\n",
    "model.fit(X_train, y_train)\n",
    "\n",
    "# Predecir el conjunto de prueba\n",
    "y_pred = model.predict(X_test)\n",
    "\n",
    "# Evaluar el modelo\n",
    "accuracy = accuracy_score(y_test, y_pred)\n",
    "conf_matrix = confusion_matrix(y_test, y_pred)\n",
    "class_report = classification_report(y_test, y_pred)\n",
    "\n",
    "score = model.score(X, y)\n",
    "# Log a metric\n",
    "mlflow.log_metric(\"score\", score)\n",
    "# Log a parameter\n",
    "mlflow.log_param(\"n_jobs\",1)\n",
    "# Log an artifact\n",
    "#mlflow.log_artifact(\"\")"
   ]
  },
  {
   "cell_type": "code",
   "execution_count": 10,
   "metadata": {},
   "outputs": [
    {
     "name": "stderr",
     "output_type": "stream",
     "text": [
      "2024/04/04 14:22:39 WARNING mlflow.utils.autologging_utils: Encountered unexpected error during sklearn autologging: The following failures occurred while performing one or more logging operations: [MlflowException('Failed to perform one or more operations on the run with ID 7432842203d44f939078f115173862ac. Failed operations: [MlflowException(\"Changing param values is not allowed. Param with key=\\'n_jobs\\' was already logged with value=\\'1\\' for run ID=\\'7432842203d44f939078f115173862ac\\'. Attempted logging new value \\'None\\'.\")]')]\n"
     ]
    },
    {
     "data": {
      "text/plain": [
       "{'copy_X': True, 'fit_intercept': True, 'n_jobs': None, 'positive': False}"
      ]
     },
     "execution_count": 10,
     "metadata": {},
     "output_type": "execute_result"
    }
   ],
   "source": [
    "mlflow.sklearn.autolog()\n",
    "\n",
    "# Train the model\n",
    "lr = LinearRegression()\n",
    "lr.fit(X, y)\n",
    "# Get params\n",
    "params = lr.get_params(deep=True)\n",
    "params\n",
    "mlflow.end_run()    \n"
   ]
  },
  {
   "cell_type": "code",
   "execution_count": 12,
   "metadata": {},
   "outputs": [],
   "source": [
    "\n",
    "# Save a model to the local filesystem\n",
    "#mlflow.sklearn.save_model(model)\n",
    "# Log a model as an artifact to MLflow Tracking.\n",
    "#mlflow.sklearn.log_model(model)\n",
    "#mlflow.log_params(params)\n",
    "\n",
    "# Load a model from local filesystem or from MLflow Tracking.\n",
    "#mlflow.sklearn.load_model(model_uri)\n",
    "\n",
    "\n"
   ]
  },
  {
   "cell_type": "code",
   "execution_count": 16,
   "metadata": {},
   "outputs": [],
   "source": [
    "def train_test_split_data():\n",
    "    # Cargar el dataset de Iris\n",
    "    iris = load_iris()\n",
    "    X, y = iris.data, iris.target\n",
    "\n",
    "    # Para simplificar, vamos a convertirlo en un problema binario solo con dos clases\n",
    "    # Eliminaremos la clase '2' del dataset\n",
    "    is_binary_class = y != 2\n",
    "    X_binary, y_binary = X[is_binary_class, :], y[is_binary_class]\n",
    "\n",
    "    # Dividir el dataset en conjunto de entrenamiento y prueba\n",
    "    X_train, X_test, y_train, y_test = train_test_split(X_binary, y_binary, test_size=0.2, random_state=42)\n",
    "    return X_train, X_test, y_train, y_test \n",
    "\n",
    "def train_model(train_x,train_y):\n",
    "    lr = LogisticRegression(solver='liblinear',n_jobs=1 )\n",
    "    lr.fit(train_x, train_y)\n",
    "    return lr\n",
    "\n",
    "def eval_metrics(y_test, y_pred):\n",
    "    # Evaluar el modelo\n",
    "    accuracy = accuracy_score(y_test, y_pred)\n",
    "    conf_matrix = confusion_matrix(y_test, y_pred)\n",
    "    class_report = classification_report(y_test, y_pred)\n",
    "    return accuracy, conf_matrix, class_report\n",
    "\n",
    "\n",
    "\n",
    "def mlflow_model( MODELS_PATH= \".\"): \n",
    "    mlflow.set_experiment(\"LR Experiment\")\n",
    "\n",
    "    mlflow.set_tracking_uri(\"file:{0}/mlruns\".format(MODELS_PATH))   \n",
    "    with mlflow.start_run():\n",
    "        X_train, X_test, y_train, y_test= train_test_split_data()\n",
    "        lr = train_model(X_train,y_train)\n",
    "        predicted_qualities = lr.predict(X_test)\n",
    "        (accuracy, conf_matrix, class_report) = eval_metrics(y_test, predicted_qualities)\n",
    "        score = lr.score(X_test, y_test)\n",
    "        params = lr.get_params(deep=True)\n",
    "\n",
    "\n",
    "\n",
    "        mlflow.log_metric(\"accuracy\", accuracy)\n",
    "        mlflow.log_metric(\"score\", score)\n",
    "\n",
    "        mlflow.log_params(params)\n",
    "\n",
    "        mlflow.sklearn.log_model(lr, \"model\")\n"
   ]
  },
  {
   "cell_type": "code",
   "execution_count": 17,
   "metadata": {},
   "outputs": [],
   "source": [
    "mlflow_model()"
   ]
  },
  {
   "cell_type": "code",
   "execution_count": null,
   "metadata": {},
   "outputs": [],
   "source": []
  }
 ],
 "metadata": {
  "kernelspec": {
   "display_name": "base",
   "language": "python",
   "name": "python3"
  },
  "language_info": {
   "codemirror_mode": {
    "name": "ipython",
    "version": 3
   },
   "file_extension": ".py",
   "mimetype": "text/x-python",
   "name": "python",
   "nbconvert_exporter": "python",
   "pygments_lexer": "ipython3",
   "version": "3.10.9"
  }
 },
 "nbformat": 4,
 "nbformat_minor": 2
}
