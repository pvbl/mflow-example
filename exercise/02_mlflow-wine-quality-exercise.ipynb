{
 "cells": [
  {
   "cell_type": "markdown",
   "metadata": {},
   "source": [
    "# Ejemplo de Uso de MLflow\n"
   ]
  },
  {
   "cell_type": "code",
   "execution_count": 1,
   "metadata": {},
   "outputs": [],
   "source": [
    "from sklearn.model_selection import train_test_split\n",
    "import mlflow\n",
    "from sklearn.linear_model import ElasticNet\n",
    "import mlflow.sklearn\n",
    "import os\n",
    "import numpy as np\n",
    "from sklearn.metrics import mean_squared_error, mean_absolute_error, r2_score\n",
    "import pandas as pd\n",
    "\n",
    "#from metrics.metrics import eval_metrics\n",
    "#from models.prepare_for_modeling import traintest_split\n",
    "\n"
   ]
  },
  {
   "cell_type": "markdown",
   "metadata": {},
   "source": [
    "# descarga de datos\n",
    "Descargamos el dataset"
   ]
  },
  {
   "cell_type": "code",
   "execution_count": 4,
   "metadata": {},
   "outputs": [],
   "source": [
    "\n",
    "\n",
    "def download_raw_data(save=False):\n",
    "    # Read the wine-quality csv file from the URL\n",
    "    csv_url =\\\n",
    "    'http://archive.ics.uci.edu/ml/machine-learning-databases/wine-quality/winequality-red.csv'\n",
    "    ??\n",
    "\n"
   ]
  },
  {
   "cell_type": "markdown",
   "metadata": {},
   "source": [
    "# modeling\n",
    "Definimos las funciones de entrenamiento del modelo"
   ]
  },
  {
   "cell_type": "code",
   "execution_count": 5,
   "metadata": {},
   "outputs": [],
   "source": [
    "\n",
    "\n",
    "\n",
    "    \n",
    "def traintest_split(data):\n",
    "    # Split the data into training and test sets. (0.75, 0.25) split.\n",
    "    train, test = train_test_split(data)\n",
    "    y_label = \"quality\"\n",
    "    # The predicted column is \"quality\" which is a scalar from [3, 9]\n",
    "    ###\n",
    "    #return train_x,test_x,train_y,test_y\n",
    "\n",
    "def train_model(train_x,train_y,alpha,l1_ratio,random_state=42):\n",
    "    lr = ElasticNet(??)\n",
    "    # fit\n",
    "    ??\n",
    "    return lr\n",
    "\n",
    "\n",
    "def eval_metrics(actual, pred):\n",
    "    ???\n",
    "    return rmse, mae, r2\n"
   ]
  },
  {
   "cell_type": "markdown",
   "metadata": {},
   "source": [
    "## mlflow \n",
    "Definimos la función  para hacer el modelo de mlflow"
   ]
  },
  {
   "cell_type": "code",
   "execution_count": 6,
   "metadata": {},
   "outputs": [],
   "source": [
    "\n",
    "\n",
    "def mlflow_model(data,alpha,l1_ratio, MODELS_PATH= \".\"): \n",
    "    mlflow.set_tracking_uri(\"file:{0}/mlruns\".format(MODELS_PATH))   \n",
    "    with mlflow.start_run():\n",
    "        # train,test split\n",
    "        # train model\n",
    "        #predict\n",
    "        # eval metrics\n",
    "        # mlflow log params: \"alpha\",\"li_ratio\",\n",
    "        # mlflow log metrics: \"rmse\", \"r2\", \"mae\"\n",
    "        # mlflow log model\n",
    "        \n",
    "        \n",
    "        \n"
   ]
  },
  {
   "cell_type": "code",
   "execution_count": 7,
   "metadata": {},
   "outputs": [],
   "source": [
    "alpha=0.5\n",
    "l1_ratio=0.5\n",
    "# run mlflow"
   ]
  },
  {
   "cell_type": "code",
   "execution_count": 8,
   "metadata": {},
   "outputs": [],
   "source": [
    "alpha=0.2\n",
    "l1_ratio=0.4\n",
    "# run mlflow"
   ]
  },
  {
   "cell_type": "code",
   "execution_count": 9,
   "metadata": {},
   "outputs": [],
   "source": [
    "alpha=0.2\n",
    "l1_ratio=0.7\n",
    "# run mlflow"
   ]
  }
 ],
 "metadata": {
  "kernelspec": {
   "display_name": "Python 3",
   "language": "python",
   "name": "python3"
  },
  "language_info": {
   "codemirror_mode": {
    "name": "ipython",
    "version": 3
   },
   "file_extension": ".py",
   "mimetype": "text/x-python",
   "name": "python",
   "nbconvert_exporter": "python",
   "pygments_lexer": "ipython3",
   "version": "3.9.16"
  }
 },
 "nbformat": 4,
 "nbformat_minor": 4
}
